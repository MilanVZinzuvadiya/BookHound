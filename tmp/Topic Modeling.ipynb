{
 "cells": [
  {
   "cell_type": "markdown",
   "id": "7743e59d",
   "metadata": {},
   "source": [
    "# Book Recommedation\n",
    "### Topic Modeling using LDA\n",
    "#### LDA - Unsupervised ML model\n",
    "\n",
    "LDA predicts propotion of topics each document(input)\n",
    "\n",
    "Idea is to make recommedation based on inequality of topic propotions predicted by model"
   ]
  },
  {
   "cell_type": "code",
   "execution_count": 1,
   "id": "21ef5084",
   "metadata": {},
   "outputs": [],
   "source": [
    "import pandas as pd\n",
    "import numpy as np\n",
    "import json\n",
    "import nltk\n",
    "import re\n",
    "import csv\n",
    "import matplotlib.pyplot as plt\n",
    "from tqdm import tqdm"
   ]
  },
  {
   "cell_type": "markdown",
   "id": "be1a81c2",
   "metadata": {},
   "source": [
    "### Load CMU book summary dataset for Training model\n",
    "http://www.cs.cmu.edu/~dbamman/booksummaries.html"
   ]
  },
  {
   "cell_type": "code",
   "execution_count": 2,
   "id": "d548318f",
   "metadata": {},
   "outputs": [
    {
     "name": "stderr",
     "output_type": "stream",
     "text": [
      "16559it [00:00, 30035.20it/s]\n"
     ]
    }
   ],
   "source": [
    "records = []\n",
    "\n",
    "with open(\"booksummaries.txt\", 'r',encoding=\"utf8\") as f:\n",
    "    data_reader = csv.reader(f, dialect='excel-tab')\n",
    "    for row in tqdm(data_reader):\n",
    "        records.append(row)"
   ]
  },
  {
   "cell_type": "markdown",
   "id": "4eab106c",
   "metadata": {},
   "source": [
    "#### strip summary info as we only need summary for training"
   ]
  },
  {
   "cell_type": "code",
   "execution_count": 4,
   "id": "55c29146",
   "metadata": {},
   "outputs": [
    {
     "name": "stderr",
     "output_type": "stream",
     "text": [
      "100%|███████████████████████████████████████████████████████████████████████| 16559/16559 [00:00<00:00, 1598505.83it/s]\n"
     ]
    },
    {
     "data": {
      "text/html": [
       "<div>\n",
       "<style scoped>\n",
       "    .dataframe tbody tr th:only-of-type {\n",
       "        vertical-align: middle;\n",
       "    }\n",
       "\n",
       "    .dataframe tbody tr th {\n",
       "        vertical-align: top;\n",
       "    }\n",
       "\n",
       "    .dataframe thead th {\n",
       "        text-align: right;\n",
       "    }\n",
       "</style>\n",
       "<table border=\"1\" class=\"dataframe\">\n",
       "  <thead>\n",
       "    <tr style=\"text-align: right;\">\n",
       "      <th></th>\n",
       "      <th>summary</th>\n",
       "    </tr>\n",
       "  </thead>\n",
       "  <tbody>\n",
       "    <tr>\n",
       "      <th>0</th>\n",
       "      <td>Old Major, the old boar on the Manor Farm, ca...</td>\n",
       "    </tr>\n",
       "    <tr>\n",
       "      <th>1</th>\n",
       "      <td>Alex, a teenager living in near-future Englan...</td>\n",
       "    </tr>\n",
       "  </tbody>\n",
       "</table>\n",
       "</div>"
      ],
      "text/plain": [
       "                                             summary\n",
       "0   Old Major, the old boar on the Manor Farm, ca...\n",
       "1   Alex, a teenager living in near-future Englan..."
      ]
     },
     "execution_count": 4,
     "metadata": {},
     "output_type": "execute_result"
    }
   ],
   "source": [
    "summary = []\n",
    "\n",
    "#summary is present at index 6 according to CMU site\n",
    "for i in tqdm(records):\n",
    "    summary.append(i[6])\n",
    "\n",
    "books = pd.DataFrame({'summary': summary})\n",
    "books.head(2)"
   ]
  },
  {
   "cell_type": "markdown",
   "id": "da44fc2e",
   "metadata": {},
   "source": [
    "remove stopwords and punctuations\n",
    "and Lemmatize words into base form"
   ]
  },
  {
   "cell_type": "code",
   "execution_count": 5,
   "id": "79afdc77",
   "metadata": {},
   "outputs": [],
   "source": [
    "from nltk.corpus import stopwords\n",
    "from nltk.stem.wordnet import WordNetLemmatizer\n",
    "import string\n",
    "stop = set(stopwords.words('english'))\n",
    "exclude = set(string.punctuation)\n",
    "lemma = WordNetLemmatizer()"
   ]
  },
  {
   "cell_type": "code",
   "execution_count": 6,
   "id": "6b2dc109",
   "metadata": {},
   "outputs": [],
   "source": [
    "def clean(doc):\n",
    "    stop_free = \" \".join([i for i in doc.lower().split() if i not in stop])\n",
    "    punc_free = ''.join(ch for ch in stop_free if ch not in exclude)\n",
    "    normalized = \" \".join(lemma.lemmatize(word) for word in punc_free.split())\n",
    "    return normalized"
   ]
  },
  {
   "cell_type": "code",
   "execution_count": 8,
   "id": "4a254f6f",
   "metadata": {},
   "outputs": [
    {
     "name": "stderr",
     "output_type": "stream",
     "text": [
      "100%|███████████████████████████████████████████████████████████████████████████| 16559/16559 [00:17<00:00, 954.23it/s]\n"
     ]
    }
   ],
   "source": [
    "doc_clean = [clean(doc).split() for doc in tqdm(books['summary'])]"
   ]
  },
  {
   "cell_type": "markdown",
   "id": "87793d60",
   "metadata": {},
   "source": [
    "Building Dictionary "
   ]
  },
  {
   "cell_type": "code",
   "execution_count": 10,
   "id": "5f7a9dfa",
   "metadata": {},
   "outputs": [
    {
     "name": "stderr",
     "output_type": "stream",
     "text": [
      "100%|██████████████████████████████████████████████████████████████████████████| 16559/16559 [00:02<00:00, 6537.76it/s]\n"
     ]
    }
   ],
   "source": [
    "import gensim\n",
    "\n",
    "# Creating the term dictionary of our courpus, where every unique term is assigned an index. \n",
    "dictionary = gensim.corpora.Dictionary(doc_clean)\n",
    "\n",
    "# convert our books_summaries into numerical data using doc to bag of words\n",
    "doc_term_matrix = [dictionary.doc2bow(doc) for doc in tqdm(doc_clean)]"
   ]
  },
  {
   "cell_type": "markdown",
   "id": "f7fba5c5",
   "metadata": {},
   "source": [
    "## Creation and training of LDA"
   ]
  },
  {
   "cell_type": "code",
   "execution_count": 11,
   "id": "01ec2b60",
   "metadata": {},
   "outputs": [],
   "source": [
    "# Creating the object for LDA model using gensim library\n",
    "Lda = gensim.models.ldamodel.LdaModel"
   ]
  },
  {
   "cell_type": "markdown",
   "id": "20e6a30c",
   "metadata": {},
   "source": [
    "Set parameters of LDA"
   ]
  },
  {
   "cell_type": "code",
   "execution_count": 13,
   "id": "674f6678",
   "metadata": {},
   "outputs": [],
   "source": [
    "num_topics = 5\n",
    "passes = 5\n",
    "eta = [0.01]*len(dictionary.keys())\n",
    "alpha = [0.01]*num_topics"
   ]
  },
  {
   "cell_type": "code",
   "execution_count": 16,
   "id": "15d23e11",
   "metadata": {},
   "outputs": [],
   "source": [
    "ldamodel = Lda(doc_term_matrix, num_topics=num_topics, id2word = dictionary, passes=passes, alpha=alpha,eta=eta)"
   ]
  },
  {
   "cell_type": "markdown",
   "id": "5e5c0dee",
   "metadata": {},
   "source": [
    "# Prediction using Trained Model"
   ]
  },
  {
   "cell_type": "code",
   "execution_count": 17,
   "id": "9ca4587d",
   "metadata": {},
   "outputs": [],
   "source": [
    "def predict(summary):\n",
    "    clean_summary = clean(summary).split()\n",
    "    doc_trm_matrix = dictionary.doc2bow(clean_summary)\n",
    "    return ldamodel[doc_trm_matrix]"
   ]
  },
  {
   "cell_type": "markdown",
   "id": "d59f7040",
   "metadata": {},
   "source": [
    "### 1984\n",
    "#### George Orwell"
   ]
  },
  {
   "cell_type": "code",
   "execution_count": 18,
   "id": "7b919f45",
   "metadata": {},
   "outputs": [],
   "source": [
    "book_1984 = \"\"\"A man loses his identity while living under a repressive regime. \\\n",
    "            In a story based on George Orwell's classic novel, Winston Smith (John Hurt) is a government employee whose job involves the rewriting of history in a manner that casts his fictional country's leaders in a charitable light. \\\n",
    "            His trysts with Julia (Suzanna Hamilton) provide his only measure of enjoyment, but lawmakers frown on the relationship -- and in this closely monitored society, there is no escape from Big Brother.\"\"\""
   ]
  },
  {
   "cell_type": "code",
   "execution_count": 19,
   "id": "2dd0d22a",
   "metadata": {},
   "outputs": [
    {
     "name": "stdout",
     "output_type": "stream",
     "text": [
      "for Book : 1984\n",
      "[(2, 0.2600291), (3, 0.73927027)]\n"
     ]
    }
   ],
   "source": [
    "print('for Book : 1984')\n",
    "print(predict(book_1984))"
   ]
  },
  {
   "cell_type": "markdown",
   "id": "e5fb048d",
   "metadata": {},
   "source": [
    "### Harry Potter and the Sorcerer's Stone\n",
    "#### J K Rowling"
   ]
  },
  {
   "cell_type": "code",
   "execution_count": 20,
   "id": "4a8262b6",
   "metadata": {},
   "outputs": [],
   "source": [
    "book_harry1 = \"\"\"Adaptation of the first of J.K. Rowling's popular children's novels about Harry Potter, \\\n",
    "                a boy who learns on his eleventh birthday that he is the orphaned son of two powerful wizards\\\n",
    "                and possesses unique magical powers of his own. He is summoned from his life as an unwanted child to \\\n",
    "                become a student at Hogwarts, an English boarding school for wizards. There, \\\n",
    "                he meets several friends who become his closest allies \\\n",
    "                and help him discover the truth about his parents' mysterious deaths.\"\"\""
   ]
  },
  {
   "cell_type": "code",
   "execution_count": 22,
   "id": "dcd1ed1d",
   "metadata": {},
   "outputs": [
    {
     "name": "stdout",
     "output_type": "stream",
     "text": [
      "for Book : Harry Potter and the Sorcerer's Stone\n",
      "[(1, 0.3311144), (2, 0.08902878), (3, 0.16001026), (4, 0.41962406)]\n"
     ]
    }
   ],
   "source": [
    "print('for Book : Harry Potter and the Sorcerer\\'s Stone')\n",
    "print(predict(book_harry1))"
   ]
  },
  {
   "cell_type": "markdown",
   "id": "57b1425e",
   "metadata": {},
   "source": []
  }
 ],
 "metadata": {
  "kernelspec": {
   "display_name": "Python 3",
   "language": "python",
   "name": "python3"
  },
  "language_info": {
   "codemirror_mode": {
    "name": "ipython",
    "version": 3
   },
   "file_extension": ".py",
   "mimetype": "text/x-python",
   "name": "python",
   "nbconvert_exporter": "python",
   "pygments_lexer": "ipython3",
   "version": "3.6.13"
  }
 },
 "nbformat": 4,
 "nbformat_minor": 5
}
